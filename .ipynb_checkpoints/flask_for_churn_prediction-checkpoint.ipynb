{
 "cells": [
  {
   "cell_type": "code",
   "execution_count": null,
   "metadata": {},
   "outputs": [
    {
     "name": "stdout",
     "output_type": "stream",
     "text": [
      " * Serving Flask app '__main__'\n",
      " * Debug mode: off\n"
     ]
    },
    {
     "name": "stderr",
     "output_type": "stream",
     "text": [
      "WARNING: This is a development server. Do not use it in a production deployment. Use a production WSGI server instead.\n",
      " * Running on http://127.0.0.1:5000\n",
      "Press CTRL+C to quit\n"
     ]
    }
   ],
   "source": [
    "import pandas as pd\n",
    "from sklearn.ensemble import RandomForestClassifier\n",
    "from sklearn.model_selection import train_test_split\n",
    "from sklearn import metrics\n",
    "import pickle as pk\n",
    "import numpy as np\n",
    "from flask import Flask, render_template,request\n",
    "app=Flask(__name__)\n",
    "\n",
    "df_test=pd.read_csv(\"tes_data.csv\")\n",
    "@app.route(\"/\")\n",
    "def load_page():\n",
    "    return render_template(\"home.html\",query=\"\")\n",
    "\n",
    "@app.route(\"/predict\",methods=[\"POST\"])\n",
    "def predict():\n",
    "    if request.method==\"POST\":\n",
    "        input1=str(request.form['gender'])\n",
    "        input2=int(request.form['SeniorCitizen'])\n",
    "        input3=str(request.form['Partner'])\n",
    "        input4=str(request.form['Dependents'])\n",
    "        input5=int(request.form['tenure'])\n",
    "        input6=str(request.form['PhoneService'])\n",
    "        input7=str(request.form['MultipleLines'])\n",
    "        input8=str(request.form['InternetService'] )   \n",
    "        input9=str(request.form['OnlineSecurity'])\n",
    "        input10=str(request.form['OnlineBackup'])\n",
    "        input11=str(request.form['DeviceProtection'])\n",
    "        input12=str(request.form['TechSupport'])\n",
    "        input13=str(request.form['StreamingTV'])\n",
    "        input14=str(request.form['StreamingMovies'])\n",
    "        input15=str(request.form['Contract'])\n",
    "        input16=str(request.form['PaperlessBilling'])\n",
    "        input17=str(request.form['PaymentMethod'])\n",
    "        input18=float(request.form['MonthlyCharges'])\n",
    "        input19=str(request.form['TotalCharges'])\n",
    "        data=[[input1,input2,input3,input4,input5,input6,input7,input8,input9,input10,input11,input12,input13,input14,input15,\n",
    "              input16,input17,input18,input19]]\n",
    "        new_df=pd.DataFrame(data,columns=[\"gender\",\"SeniorCitizen\",\"Partner\",\"Dependents\",\"tenure\",\"PhoneService\",\n",
    "                                         \"MultipleLines\",\"InternetService\",\"OnlineSecurity\",\"OnlineBackup\",\"DeviceProtection\",\n",
    "                                         \"TechSupport\",\"StreamingTV\",\"StreamingMovies\",\"Contract\",\"PaperlessBilling\",\n",
    "                                         \"PaymentMethod\",\"MonthlyCharges\",\"TotalCharges\"])\n",
    "        \n",
    "        df=pd.concat([df_test,new_df])\n",
    "        df.drop(df.loc[df[\"TotalCharges\"]==\" \"].index,inplace=True)\n",
    "        df[\"TotalCharges\"]=df[\"TotalCharges\"].astype(float)\n",
    "        l=[f\"{i}-{i+11}\" for i in range(1,72,12)]\n",
    "        df[\"tenure_bins\"]=pd.cut(df.tenure,range(1,80,12,),labels=l,right=False)\n",
    "        df.drop(\"tenure\",axis=1,inplace=True)\n",
    "        for i in df.columns:\n",
    "            if df[i].dtype==\"O\":\n",
    "                df[i]=df[i].astype(\"category\")\n",
    "        category=df.select_dtypes(include=\"category\")\n",
    "        numeric=df.select_dtypes(exclude=\"category\")\n",
    "        category[\"gender\"].replace({\"Male\":1,\"Female\":0},inplace=True)\n",
    "        category[\"InternetService\"].replace({\"No internet service\":1,\"DSL\":1,\"Fiber optic\":2},inplace=True)\n",
    "        category[\"MultipleLines\"].replace({\"Yes\":1,\"No\":0,\"No phone service\":1},inplace=True)\n",
    "        category.replace({\"Yes\":1,\"No\":0,\"No internet service\":1},inplace=True)\n",
    "        category[\"Contract\"].replace({\"Month-to-month\":3,\"One year\":2,\"Two year\":1},inplace=True)\n",
    "        category[\"PaymentMethod\"].replace({\"Electronic check\":4,\"Mailed check\":3,'Bank transfer (automatic)':2,'Credit card (automatic)':1},inplace=True)\n",
    "        category[\"tenure_bins\"].replace({\"1-12\":6,\"13-24\":5,\"25-36\":4,\"37-48\":3,\"49-60\":2,\"61-72\":1},inplace=True)\n",
    "        category.dropna(inplace=True)\n",
    "        df_clean=pd.concat([numeric,category],axis=1)\n",
    "        new_data=np.array(df_clean.iloc[-1,:]).reshape(1,-1)\n",
    "        with open(\"pr_model\",\"rb\") as f:\n",
    "            m=pk.load(f)\n",
    "        predict=m.predict(new_data)[0]\n",
    "        predict=\"Yes\" if predict==1 else \"No\"\n",
    "    return render_template(\"home.html\",prediction=predict)\n",
    "    \n",
    "\n",
    "if __name__==\"__main__\":\n",
    "    app.run()"
   ]
  },
  {
   "cell_type": "code",
   "execution_count": null,
   "metadata": {},
   "outputs": [],
   "source": []
  },
  {
   "cell_type": "code",
   "execution_count": null,
   "metadata": {},
   "outputs": [],
   "source": []
  },
  {
   "cell_type": "code",
   "execution_count": null,
   "metadata": {},
   "outputs": [],
   "source": []
  }
 ],
 "metadata": {
  "kernelspec": {
   "display_name": "Python 3 (ipykernel)",
   "language": "python",
   "name": "python3"
  },
  "language_info": {
   "codemirror_mode": {
    "name": "ipython",
    "version": 3
   },
   "file_extension": ".py",
   "mimetype": "text/x-python",
   "name": "python",
   "nbconvert_exporter": "python",
   "pygments_lexer": "ipython3",
   "version": "3.11.5"
  }
 },
 "nbformat": 4,
 "nbformat_minor": 4
}
