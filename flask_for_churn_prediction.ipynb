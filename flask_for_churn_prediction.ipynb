{
 "cells": [
  {
   "cell_type": "code",
   "execution_count": null,
   "metadata": {},
   "outputs": [
    {
     "name": "stderr",
     "output_type": "stream",
     "text": [
      "C:\\ProgramData\\anaconda3\\Lib\\site-packages\\pandas\\core\\arrays\\masked.py:60: UserWarning: Pandas requires version '1.3.6' or newer of 'bottleneck' (version '1.3.5' currently installed).\n",
      "  from pandas.core import (\n"
     ]
    },
    {
     "name": "stdout",
     "output_type": "stream",
     "text": [
      " * Serving Flask app '__main__'\n",
      " * Debug mode: off\n"
     ]
    },
    {
     "name": "stderr",
     "output_type": "stream",
     "text": [
      "WARNING: This is a development server. Do not use it in a production deployment. Use a production WSGI server instead.\n",
      " * Running on http://127.0.0.1:5000\n",
      "Press CTRL+C to quit\n",
      "127.0.0.1 - - [21/Feb/2024 22:21:22] \"GET / HTTP/1.1\" 200 -\n",
      "127.0.0.1 - - [21/Feb/2024 22:21:22] \"GET /favicon.ico HTTP/1.1\" 404 -\n"
     ]
    }
   ],
   "source": [
    "import pandas as pd\n",
    "from sklearn.ensemble import RandomForestClassifier\n",
    "from sklearn.model_selection import train_test_split\n",
    "from sklearn import metrics\n",
    "import pickle as pk\n",
    "import numpy as np\n",
    "from flask import Flask, render_template,request\n",
    "app=Flask(__name__)\n",
    "\n",
    "df_test=pd.read_csv(\"tes_data.csv\")\n",
    "@app.route(\"/\")\n",
    "def load_page():\n",
    "    return render_template(\"home.html\",query=\"\")\n",
    "\n",
    "@app.route(\"/predict\",methods=[\"POST\"])\n",
    "def predict():\n",
    "    if request.method==\"POST\":\n",
    "        input1=str(request.form['gender'])\n",
    "        input2=int(request.form['SeniorCitizen'])\n",
    "        input3=str(request.form['Partner'])\n",
    "        input4=str(request.form['Dependents'])\n",
    "        input5=int(request.form['tenure'])\n",
    "        input6=str(request.form['PhoneService'])\n",
    "        input7=str(request.form['MultipleLines'])\n",
    "        input8=str(request.form['InternetService'] )   \n",
    "        input9=str(request.form['OnlineSecurity'])\n",
    "        input10=str(request.form['OnlineBackup'])\n",
    "        input11=str(request.form['DeviceProtection'])\n",
    "        input12=str(request.form['TechSupport'])\n",
    "        input13=str(request.form['StreamingTV'])\n",
    "        input14=str(request.form['StreamingMovies'])\n",
    "        input15=str(request.form['Contract'])\n",
    "        input16=str(request.form['PaperlessBilling'])\n",
    "        input17=str(request.form['PaymentMethod'])\n",
    "        input18=float(request.form['MonthlyCharges'])\n",
    "        input19=str(request.form['TotalCharges'])\n",
    "        data=[[input1,input2,input3,input4,input5,input6,input7,input8,input9,input10,input11,input12,input13,input14,input15,\n",
    "              input16,input17,input18,input19]]\n",
    "        #print(\"data\",data)\n",
    "        new_df=pd.DataFrame(data,columns=[\"gender\",\"SeniorCitizen\",\"Partner\",\"Dependents\",\"tenure\",\"PhoneService\",\n",
    "                                         \"MultipleLines\",\"InternetService\",\"OnlineSecurity\",\"OnlineBackup\",\"DeviceProtection\",\n",
    "                                         \"TechSupport\",\"StreamingTV\",\"StreamingMovies\",\"Contract\",\"PaperlessBilling\",\n",
    "                                         \"PaymentMethod\",\"MonthlyCharges\",\"TotalCharges\"])\n",
    "        \n",
    "        df=pd.concat([df_test,new_df])\n",
    "        #print(\"df\",df)\n",
    "        df.drop(df.loc[df[\"TotalCharges\"]==\" \"].index,inplace=True)\n",
    "        df[\"TotalCharges\"]=df[\"TotalCharges\"].astype(float)\n",
    "        l=[f\"{i}-{i+11}\" for i in range(1,72,12)]\n",
    "        df[\"tenure_bins\"]=pd.cut(df.tenure,range(1,80,12,),labels=l,right=False)\n",
    "        df.drop(\"tenure\",axis=1,inplace=True)\n",
    "        for i in df.columns:\n",
    "            if df[i].dtype==\"O\":\n",
    "                df[i]=df[i].astype(\"category\")\n",
    "        category=df.select_dtypes(include=\"category\")\n",
    "        numeric=df.select_dtypes(exclude=\"category\")\n",
    "        category[\"gender\"].replace({\"Male\":1,\"Female\":0},inplace=True)\n",
    "        category[\"InternetService\"].replace({\"No internet service\":1,\"DSL\":1,\"Fiber optic\":2},inplace=True)\n",
    "        category[\"MultipleLines\"].replace({\"Yes\":1,\"No\":0,\"No phone service\":1},inplace=True)\n",
    "        category.replace({\"Yes\":1,\"No\":0,\"No internet service\":1},inplace=True)\n",
    "        category[\"Contract\"].replace({\"Month-to-month\":3,\"One year\":2,\"Two year\":1},inplace=True)\n",
    "        category[\"PaymentMethod\"].replace({\"Electronic check\":4,\"Mailed check\":3,'Bank transfer (automatic)':2,'Credit card (automatic)':1},inplace=True)\n",
    "        category[\"tenure_bins\"].replace({\"1-12\":6,\"13-24\":5,\"25-36\":4,\"37-48\":3,\"49-60\":2,\"61-72\":1},inplace=True)\n",
    "        category.dropna(inplace=True)\n",
    "        #print(\"category\",category)\n",
    "        #print(\"numeric\",numeric)\n",
    "        df_clean=pd.concat([numeric,category],axis=1)\n",
    "        print(\"df_clean\",df_clean.shape)\n",
    "        new_data=np.array(df_clean.iloc[-1,:]).reshape(1,-1)\n",
    "        print(\"new_data\",new_data)\n",
    "        print(new_data.shape)\n",
    "        with open(\"pr_model\",\"rb\") as f:\n",
    "            m=pk.load(f)\n",
    "        predict=m.predict(new_data)[0]\n",
    "        predict=\"Yes\" if predict==1 else \"No\"\n",
    "    return render_template(\"home.html\",prediction=predict)\n",
    "    \n",
    "\n",
    "if __name__==\"__main__\":\n",
    "    app.run()"
   ]
  },
  {
   "cell_type": "code",
   "execution_count": 5,
   "metadata": {},
   "outputs": [],
   "source": [
    "import pandas"
   ]
  },
  {
   "cell_type": "code",
   "execution_count": 6,
   "metadata": {},
   "outputs": [
    {
     "data": {
      "text/plain": [
       "'2.0.3'"
      ]
     },
     "execution_count": 6,
     "metadata": {},
     "output_type": "execute_result"
    }
   ],
   "source": [
    "pandas.__version__"
   ]
  },
  {
   "cell_type": "code",
   "execution_count": null,
   "metadata": {},
   "outputs": [],
   "source": [
    "!pip uninstall pandas"
   ]
  },
  {
   "cell_type": "code",
   "execution_count": 5,
   "metadata": {},
   "outputs": [],
   "source": [
    "a=[[  1,  23, 199,   0,   1,   0,   1,   1,   2,   0,   1,   0,   0,   0,0,   3,   1,   4,   5]]"
   ]
  },
  {
   "cell_type": "code",
   "execution_count": 9,
   "metadata": {},
   "outputs": [
    {
     "ename": "ValueError",
     "evalue": "node array from the pickle has an incompatible dtype:\n- expected: {'names': ['left_child', 'right_child', 'feature', 'threshold', 'impurity', 'n_node_samples', 'weighted_n_node_samples', 'missing_go_to_left'], 'formats': ['<i8', '<i8', '<i8', '<f8', '<f8', '<i8', '<f8', 'u1'], 'offsets': [0, 8, 16, 24, 32, 40, 48, 56], 'itemsize': 64}\n- got     : [('left_child', '<i8'), ('right_child', '<i8'), ('feature', '<i8'), ('threshold', '<f8'), ('impurity', '<f8'), ('n_node_samples', '<i8'), ('weighted_n_node_samples', '<f8')]",
     "output_type": "error",
     "traceback": [
      "\u001b[1;31m---------------------------------------------------------------------------\u001b[0m",
      "\u001b[1;31mValueError\u001b[0m                                Traceback (most recent call last)",
      "Cell \u001b[1;32mIn[9], line 2\u001b[0m\n\u001b[0;32m      1\u001b[0m \u001b[38;5;28;01mwith\u001b[39;00m \u001b[38;5;28mopen\u001b[39m(\u001b[38;5;124m\"\u001b[39m\u001b[38;5;124mpr_model\u001b[39m\u001b[38;5;124m\"\u001b[39m,\u001b[38;5;124m\"\u001b[39m\u001b[38;5;124mrb\u001b[39m\u001b[38;5;124m\"\u001b[39m) \u001b[38;5;28;01mas\u001b[39;00m f:\n\u001b[1;32m----> 2\u001b[0m     m\u001b[38;5;241m=\u001b[39mpk\u001b[38;5;241m.\u001b[39mload(f)\n\u001b[0;32m      3\u001b[0m     predict\u001b[38;5;241m=\u001b[39mm\u001b[38;5;241m.\u001b[39mpredict(a)[\u001b[38;5;241m0\u001b[39m]\n",
      "File \u001b[1;32msklearn\\\\tree\\\\_tree.pyx:865\u001b[0m, in \u001b[0;36msklearn.tree._tree.Tree.__setstate__\u001b[1;34m()\u001b[0m\n",
      "File \u001b[1;32msklearn\\\\tree\\\\_tree.pyx:1571\u001b[0m, in \u001b[0;36msklearn.tree._tree._check_node_ndarray\u001b[1;34m()\u001b[0m\n",
      "\u001b[1;31mValueError\u001b[0m: node array from the pickle has an incompatible dtype:\n- expected: {'names': ['left_child', 'right_child', 'feature', 'threshold', 'impurity', 'n_node_samples', 'weighted_n_node_samples', 'missing_go_to_left'], 'formats': ['<i8', '<i8', '<i8', '<f8', '<f8', '<i8', '<f8', 'u1'], 'offsets': [0, 8, 16, 24, 32, 40, 48, 56], 'itemsize': 64}\n- got     : [('left_child', '<i8'), ('right_child', '<i8'), ('feature', '<i8'), ('threshold', '<f8'), ('impurity', '<f8'), ('n_node_samples', '<i8'), ('weighted_n_node_samples', '<f8')]"
     ]
    }
   ],
   "source": [
    "with open(\"pr_model\",\"rb\") as f:\n",
    "    m=pk.load(f)\n",
    "    predict=m.predict(a)[0]"
   ]
  },
  {
   "cell_type": "code",
   "execution_count": 15,
   "metadata": {},
   "outputs": [],
   "source": [
    "import sklearn\n"
   ]
  },
  {
   "cell_type": "code",
   "execution_count": 11,
   "metadata": {},
   "outputs": [
    {
     "data": {
      "text/plain": [
       "'1.4.0'"
      ]
     },
     "execution_count": 11,
     "metadata": {},
     "output_type": "execute_result"
    }
   ],
   "source": [
    "sklearn.__version__"
   ]
  },
  {
   "cell_type": "code",
   "execution_count": 14,
   "metadata": {},
   "outputs": [
    {
     "name": "stdout",
     "output_type": "stream",
     "text": [
      "^C\n",
      "Note: you may need to restart the kernel to use updated packages.\n"
     ]
    }
   ],
   "source": [
    "pip uninstall scikit-learn"
   ]
  },
  {
   "cell_type": "code",
   "execution_count": null,
   "metadata": {},
   "outputs": [],
   "source": []
  }
 ],
 "metadata": {
  "kernelspec": {
   "display_name": "Python 3 (ipykernel)",
   "language": "python",
   "name": "python3"
  },
  "language_info": {
   "codemirror_mode": {
    "name": "ipython",
    "version": 3
   },
   "file_extension": ".py",
   "mimetype": "text/x-python",
   "name": "python",
   "nbconvert_exporter": "python",
   "pygments_lexer": "ipython3",
   "version": "3.11.5"
  }
 },
 "nbformat": 4,
 "nbformat_minor": 4
}
